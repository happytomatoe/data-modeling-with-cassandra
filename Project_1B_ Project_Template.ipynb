{
 "cells": [
  {
   "cell_type": "markdown",
   "metadata": {},
   "source": [
    "# Part I. ETL Pipeline for Pre-Processing the Files"
   ]
  },
  {
   "cell_type": "markdown",
   "metadata": {},
   "source": [
    "## PLEASE RUN THE FOLLOWING CODE FOR PRE-PROCESSING THE FILES"
   ]
  },
  {
   "cell_type": "markdown",
   "metadata": {},
   "source": [
    "#### Import Python packages "
   ]
  },
  {
   "cell_type": "code",
   "execution_count": 197,
   "metadata": {
    "ExecuteTime": {
     "end_time": "2021-10-08T15:57:17.353929Z",
     "start_time": "2021-10-08T15:57:17.350732Z"
    }
   },
   "outputs": [],
   "source": [
    "# Import Python packages \n",
    "import pandas as pd\n",
    "import cassandra\n",
    "import re\n",
    "import os\n",
    "import glob\n",
    "import numpy as np\n",
    "import json\n",
    "import csv"
   ]
  },
  {
   "cell_type": "markdown",
   "metadata": {},
   "source": [
    "#### Creating list of filepaths to process original event csv data files"
   ]
  },
  {
   "cell_type": "code",
   "execution_count": 198,
   "metadata": {
    "ExecuteTime": {
     "end_time": "2021-10-08T15:57:17.369686Z",
     "start_time": "2021-10-08T15:57:17.355630Z"
    }
   },
   "outputs": [
    {
     "name": "stdout",
     "output_type": "stream",
     "text": [
      "/home/jovyan/work\n"
     ]
    }
   ],
   "source": [
    "# checking your current working directory\n",
    "print(os.getcwd())\n",
    "\n",
    "# Get your current folder and subfolder event data\n",
    "filepath = os.getcwd() + '/event_data'\n",
    "\n",
    "# Create a for loop to create a list of files and collect each filepath\n",
    "for root, dirs, files in os.walk(filepath):\n",
    "    \n",
    "# join the file path and roots with the subdirectories using glob\n",
    "    file_path_list = glob.glob(os.path.join(root,'*'))\n",
    "    #print(file_path_list)"
   ]
  },
  {
   "cell_type": "markdown",
   "metadata": {},
   "source": [
    "#### Processing the files to create the data file csv that will be used for Apache Casssandra tables"
   ]
  },
  {
   "cell_type": "code",
   "execution_count": 199,
   "metadata": {
    "ExecuteTime": {
     "end_time": "2021-10-08T15:57:17.440320Z",
     "start_time": "2021-10-08T15:57:17.371408Z"
    }
   },
   "outputs": [],
   "source": [
    "# initiating an empty list of rows that will be generated from each file\n",
    "full_data_rows_list = [] \n",
    "    \n",
    "# for every filepath in the file path list \n",
    "for f in file_path_list:\n",
    "\n",
    "# reading csv file \n",
    "    with open(f, 'r', encoding = 'utf8', newline='') as csvfile: \n",
    "        # creating a csv reader object \n",
    "        csvreader = csv.reader(csvfile) \n",
    "        next(csvreader)\n",
    "        \n",
    " # extracting each data row one by one and append it        \n",
    "        for line in csvreader:\n",
    "            #print(line)\n",
    "            full_data_rows_list.append(line) \n",
    "            \n",
    "# uncomment the code below if you would like to get total number of rows \n",
    "# print(len(full_data_rows_list))\n",
    "# uncomment the code below if you would like to check to see what the list of event data rows will look like\n",
    "#print(full_data_rows_list)\n",
    "\n",
    "# creating a smaller event data csv file called event_datafile_full csv that will be used to insert data into the \\\n",
    "# Apache Cassandra tables\n",
    "csv.register_dialect('myDialect', quoting=csv.QUOTE_ALL, skipinitialspace=True)\n",
    "\n",
    "with open('event_datafile_new.csv', 'w', encoding = 'utf8', newline='') as f:\n",
    "    writer = csv.writer(f, dialect='myDialect')\n",
    "    writer.writerow(['artist','firstName','gender','itemInSession','lastName','length',\\\n",
    "                'level','location','sessionId','song','userId'])\n",
    "    for row in full_data_rows_list:\n",
    "        if (row[0] == ''):\n",
    "            continue\n",
    "        writer.writerow((row[0], row[2], row[3], row[4], row[5], row[6], row[7], row[8], row[12], row[13], row[16]))\n"
   ]
  },
  {
   "cell_type": "code",
   "execution_count": 200,
   "metadata": {
    "ExecuteTime": {
     "end_time": "2021-10-08T15:57:17.452541Z",
     "start_time": "2021-10-08T15:57:17.441836Z"
    }
   },
   "outputs": [
    {
     "name": "stdout",
     "output_type": "stream",
     "text": [
      "6821\n"
     ]
    }
   ],
   "source": [
    "# check the number of rows in your csv file\n",
    "with open('event_datafile_new.csv', 'r', encoding = 'utf8') as f:\n",
    "    print(sum(1 for line in f))"
   ]
  },
  {
   "cell_type": "markdown",
   "metadata": {},
   "source": [
    "# Part II. Complete the Apache Cassandra coding portion of your project. \n",
    "\n",
    "## Now you are ready to work with the CSV file titled <font color=red>event_datafile_new.csv</font>, located within the Workspace directory.  The event_datafile_new.csv contains the following columns: \n",
    "- artist \n",
    "- firstName of user\n",
    "- gender of user\n",
    "- item number in session\n",
    "- last name of user\n",
    "- length of the song\n",
    "- level (paid or free song)\n",
    "- location of the user\n",
    "- sessionId\n",
    "- song title\n",
    "- userId\n",
    "\n",
    "The image below is a screenshot of what the denormalized data should appear like in the <font color=red>**event_datafile_new.csv**</font> after the code above is run:<br>\n",
    "\n",
    "<img src=\"images/image_event_datafile_new.jpg\">"
   ]
  },
  {
   "cell_type": "markdown",
   "metadata": {},
   "source": [
    "## Begin writing your Apache Cassandra code in the cells below"
   ]
  },
  {
   "cell_type": "markdown",
   "metadata": {},
   "source": [
    "#### Creating a Cluster"
   ]
  },
  {
   "cell_type": "code",
   "execution_count": 201,
   "metadata": {
    "ExecuteTime": {
     "end_time": "2021-10-08T15:57:17.497275Z",
     "start_time": "2021-10-08T15:57:17.454985Z"
    }
   },
   "outputs": [],
   "source": [
    "# This should make a connection to a Cassandra instance your local machine \n",
    "# (127.0.0.1)\n",
    "\n",
    "from cassandra.cluster import Cluster\n",
    "cluster = Cluster(['db'])\n",
    "# cluster = Cluster()\n",
    "\n",
    "\n",
    "# To establish connection and begin executing queries, need a session\n",
    "session = cluster.connect()"
   ]
  },
  {
   "cell_type": "markdown",
   "metadata": {},
   "source": [
    "#### Create Keyspace"
   ]
  },
  {
   "cell_type": "code",
   "execution_count": 202,
   "metadata": {
    "ExecuteTime": {
     "end_time": "2021-10-08T15:57:17.504039Z",
     "start_time": "2021-10-08T15:57:17.499175Z"
    }
   },
   "outputs": [
    {
     "data": {
      "text/plain": [
       "<cassandra.cluster.ResultSet at 0x7fa82f43a400>"
      ]
     },
     "execution_count": 202,
     "metadata": {},
     "output_type": "execute_result"
    }
   ],
   "source": [
    "# TO-DO: Create a Keyspace \n",
    "session.execute(\"\"\"\n",
    "CREATE KEYSPACE IF NOT EXISTS sparkify\n",
    "  WITH REPLICATION = { \n",
    "   'class' : 'SimpleStrategy', \n",
    "   'replication_factor' : 1 \n",
    "  };\n",
    "\"\"\")"
   ]
  },
  {
   "cell_type": "markdown",
   "metadata": {},
   "source": [
    "#### Set Keyspace"
   ]
  },
  {
   "cell_type": "code",
   "execution_count": 203,
   "metadata": {
    "ExecuteTime": {
     "end_time": "2021-10-08T15:57:17.512420Z",
     "start_time": "2021-10-08T15:57:17.505912Z"
    }
   },
   "outputs": [],
   "source": [
    "# TO-DO: Set KEYSPACE to the keyspace specified above\n",
    "session.set_keyspace(\"sparkify\")"
   ]
  },
  {
   "cell_type": "markdown",
   "metadata": {},
   "source": [
    "### Now we need to create tables to run the following queries. Remember, with Apache Cassandra you model the database tables on the queries you want to run."
   ]
  },
  {
   "cell_type": "markdown",
   "metadata": {},
   "source": [
    "# Create queries to ask the following three questions of the data\n",
    "\n",
    "### 1. Give me the artist, song title and song's length in the music app history that was heard during  sessionId = 338, and itemInSession  = 4\n",
    "\n",
    "\n",
    "### 2. Give me only the following: name of artist, song (sorted by itemInSession) and user (first and last name) for userid = 10, sessionid = 182\n",
    "    \n",
    "\n",
    "### 3. Give me every user name (first and last) in my music app history who listened to the song 'All Hands Against His Own'"
   ]
  },
  {
   "cell_type": "code",
   "execution_count": 204,
   "metadata": {
    "ExecuteTime": {
     "end_time": "2021-10-08T15:57:20.668141Z",
     "start_time": "2021-10-08T15:57:17.513922Z"
    }
   },
   "outputs": [],
   "source": [
    "## TO-DO: Query 1:  Give me the artist, song title and song's length in the music app history\n",
    "# that was heard during sessionId = 338, and itemInSession = 4\n",
    "\n",
    "# We have provided part of the code to set up the CSV file. Please complete the Apache Cassandra code below#\n",
    "file = 'event_datafile_new.csv'\n",
    "class ColumnNames:\n",
    "    artist=\"artist\"\n",
    "    first_name=\"firstName\"\n",
    "    last_name=\"lastName\"\n",
    "    gender=\"gender\"\n",
    "    item_in_session=\"itemInSession\"\n",
    "    length=\"length\"\n",
    "    level=\"level\"\n",
    "    location=\"location\"\n",
    "    session_id=\"sessionId\"\n",
    "    user_id=\"userId\"\n",
    "    song=\"song\"\n",
    "    \n",
    "    \n",
    "session.execute(\"\"\"\n",
    "DROP TABLE IF EXISTS music_app_history\n",
    "\"\"\")\n",
    "session.execute(\"\"\"\n",
    "CREATE TABLE music_app_history(\n",
    "   artist text, \n",
    "   title text, \n",
    "   length float,\n",
    "   session_id bigint,\n",
    "   item_in_session int,\n",
    "   PRIMARY KEY (session_id,item_in_session)\n",
    "   )\n",
    "\"\"\")\n",
    "query = session.prepare(\"\"\"\n",
    "INSERT INTO music_app_history(artist, title, length, session_id, item_in_session) VALUES (?,?,?,?,?)\n",
    "\"\"\")\n",
    "\n",
    "with open(file, encoding = 'utf8') as f:\n",
    "    csvreader = csv.DictReader(f)\n",
    "    for line in csvreader:\n",
    "        session.execute(query, (line[ColumnNames.artist],\n",
    "                                line[ColumnNames.song],\n",
    "                                float(line[ColumnNames.length]),\n",
    "                                int(line[ColumnNames.session_id]),\n",
    "                                int(line[ColumnNames.item_in_session])\n",
    "                               ))"
   ]
  },
  {
   "cell_type": "markdown",
   "metadata": {},
   "source": [
    "#### Do a SELECT to verify that the data have been inserted into each table"
   ]
  },
  {
   "cell_type": "code",
   "execution_count": 205,
   "metadata": {
    "ExecuteTime": {
     "end_time": "2021-10-08T15:57:20.675743Z",
     "start_time": "2021-10-08T15:57:20.669705Z"
    },
    "scrolled": true
   },
   "outputs": [
    {
     "name": "stdout",
     "output_type": "stream",
     "text": [
      "Row(artist='Faithless', title='Music Matters (Mark Knight Dub)', length=495.30731201171875)\n"
     ]
    }
   ],
   "source": [
    "## TO-DO: Query 1:  Give me the artist, song title and song's length in the music app history\n",
    "# that was heard during sessionId = 338, and itemInSession = 4\n",
    "r=session.execute(\"\"\"\n",
    "SELECT artist, title, length FROM music_app_history\n",
    "WHERE session_id = 338 And item_in_session = 4\n",
    "\"\"\")\n",
    "for x in r:\n",
    "    print(x)"
   ]
  },
  {
   "cell_type": "markdown",
   "metadata": {},
   "source": [
    "### COPY AND REPEAT THE ABOVE THREE CELLS FOR EACH OF THE THREE QUESTIONS"
   ]
  },
  {
   "cell_type": "code",
   "execution_count": 206,
   "metadata": {
    "ExecuteTime": {
     "end_time": "2021-10-08T15:57:23.520005Z",
     "start_time": "2021-10-08T15:57:20.677351Z"
    }
   },
   "outputs": [],
   "source": [
    "## TO-DO: Query 2: Give me only the following: name of artist, song (sorted by itemInSession) and user (first and last name)\\\n",
    "## for userid = 10, sessionid = 182\n",
    "file = 'event_datafile_new.csv'\n",
    "\n",
    "session.execute(\"\"\"\n",
    "DROP TABLE IF EXISTS artist_listening_history\n",
    "\"\"\")\n",
    "session.execute(\"\"\"\n",
    "CREATE TABLE artist_listening_history(\n",
    "   artist text, \n",
    "   title text, \n",
    "   length float,\n",
    "   username text,\n",
    "   session_id int,\n",
    "   item_in_session int,\n",
    "   user_id int,\n",
    "   PRIMARY KEY ((session_id,user_id),item_in_session)\n",
    "   );\n",
    "\"\"\")\n",
    "query = session.prepare( \"\"\"\n",
    "INSERT INTO artist_listening_history(artist, title, length, username,session_id, item_in_session, user_id)\n",
    "VALUES (?,?,?,?,?,?,?)\n",
    "\"\"\")\n",
    "\n",
    "with open(file, encoding = 'utf8') as f:\n",
    "    csvreader = csv.DictReader(f)\n",
    "    for line in csvreader:\n",
    "        values=(line[ColumnNames.artist], \n",
    "                line[ColumnNames.song],\n",
    "                float(line[ColumnNames.length]),\n",
    "                line[ColumnNames.first_name]+\" \"+line[ColumnNames.last_name],\n",
    "                int(line[ColumnNames.session_id]),\n",
    "                int(line[ColumnNames.item_in_session]),\n",
    "                int(line[ColumnNames.user_id]))\n",
    "#         print(values)\n",
    "        session.execute(query, values ) \n",
    "                    "
   ]
  },
  {
   "cell_type": "code",
   "execution_count": 207,
   "metadata": {
    "ExecuteTime": {
     "end_time": "2021-10-08T15:57:23.526012Z",
     "start_time": "2021-10-08T15:57:23.521898Z"
    }
   },
   "outputs": [
    {
     "name": "stdout",
     "output_type": "stream",
     "text": [
      "Row(artist='Faithless', title='Music Matters (Mark Knight Dub)', length=495.30731201171875)\n"
     ]
    }
   ],
   "source": [
    " ## TO-DO: Query 2: Give me only the following: name of artist, song (sorted by itemInSession)\n",
    "#     and user (first and last name)\\\n",
    "## for userid = 10, sessionid = 182\n",
    "\n",
    "r=session.execute(\"\"\"\n",
    "\n",
    " SELECT artist, title, length FROM music_app_history\n",
    " WHERE session_id = 338 And item_in_session = 4\n",
    "\"\"\")\n",
    "\n",
    "for x in r:\n",
    "    print(x)"
   ]
  },
  {
   "cell_type": "code",
   "execution_count": 209,
   "metadata": {
    "ExecuteTime": {
     "end_time": "2021-10-08T15:57:45.573563Z",
     "start_time": "2021-10-08T15:57:42.675596Z"
    }
   },
   "outputs": [],
   "source": [
    "## TO-DO: Query 3: Give me every user name (first and last) in my music app history who listened \n",
    "# to the song 'All Hands Against His Own'\n",
    "file = 'event_datafile_new.csv'\n",
    "\n",
    "session.execute(\"\"\"\n",
    "DROP TABLE IF EXISTS user_listening_history\n",
    "\"\"\")\n",
    "session.execute(\"\"\"\n",
    "CREATE TABLE user_listening_history(\n",
    "   username text,\n",
    "   song text,\n",
    "   PRIMARY KEY (song)\n",
    "   );\n",
    "\"\"\")\n",
    "query = session.prepare( \"\"\"\n",
    "INSERT INTO user_listening_history(username,song) VALUES (?,?)\n",
    "\"\"\")\n",
    "\n",
    "with open(file, encoding = 'utf8') as f:\n",
    "    csvreader = csv.DictReader(f)\n",
    "    for line in csvreader:\n",
    "        values=(line[ColumnNames.first_name]+\" \"+line[ColumnNames.last_name],\n",
    "                line[ColumnNames.song])\n",
    "#         print(values)\n",
    "        session.execute(query, values ) "
   ]
  },
  {
   "cell_type": "code",
   "execution_count": 210,
   "metadata": {
    "ExecuteTime": {
     "end_time": "2021-10-08T15:57:45.628021Z",
     "start_time": "2021-10-08T15:57:45.619614Z"
    }
   },
   "outputs": [
    {
     "name": "stdout",
     "output_type": "stream",
     "text": [
      "Row(username='Sara Johnson')\n"
     ]
    }
   ],
   "source": [
    "## TO-DO: Query 3: Give me every user name (first and last) in my music app history who listened \n",
    "# to the song 'All Hands Against His Own'\n",
    "\n",
    "r=session.execute(\"\"\"\n",
    "SELECT username FROM user_listening_history\n",
    "WHERE song='All Hands Against His Own'\n",
    "\"\"\")\n",
    "for x in r:\n",
    "    print(x)\n",
    "\n",
    "                    "
   ]
  },
  {
   "cell_type": "markdown",
   "metadata": {},
   "source": [
    "### Drop the tables before closing out the sessions"
   ]
  },
  {
   "cell_type": "code",
   "execution_count": 193,
   "metadata": {
    "ExecuteTime": {
     "end_time": "2021-10-08T15:54:38.837878Z",
     "start_time": "2021-10-08T15:54:38.826487Z"
    }
   },
   "outputs": [],
   "source": [
    "## TO-DO: Drop the table before closing out the sessions"
   ]
  },
  {
   "cell_type": "code",
   "execution_count": 194,
   "metadata": {
    "ExecuteTime": {
     "end_time": "2021-10-08T15:54:40.611547Z",
     "start_time": "2021-10-08T15:54:38.839480Z"
    }
   },
   "outputs": [
    {
     "data": {
      "text/plain": [
       "<cassandra.cluster.ResultSet at 0x7fa7fe5724c0>"
      ]
     },
     "execution_count": 194,
     "metadata": {},
     "output_type": "execute_result"
    }
   ],
   "source": [
    "session.execute(\"\"\"\n",
    "DROP TABLE IF EXISTS sparkify.music_app_history\n",
    "\"\"\")\n",
    "session.execute(\"\"\"\n",
    "DROP TABLE IF EXISTS sparkify.artist_listening_history\n",
    "\"\"\")\n",
    "session.execute(\"\"\"\n",
    "DROP TABLE IF EXISTS sparkify.user_listening_history\n",
    "\"\"\")"
   ]
  },
  {
   "cell_type": "markdown",
   "metadata": {},
   "source": [
    "### Close the session and cluster connection¶"
   ]
  },
  {
   "cell_type": "code",
   "execution_count": 195,
   "metadata": {
    "ExecuteTime": {
     "end_time": "2021-10-08T15:54:40.695896Z",
     "start_time": "2021-10-08T15:54:40.621467Z"
    }
   },
   "outputs": [],
   "source": [
    "session.shutdown()\n",
    "cluster.shutdown()"
   ]
  },
  {
   "cell_type": "code",
   "execution_count": null,
   "metadata": {},
   "outputs": [],
   "source": []
  },
  {
   "cell_type": "code",
   "execution_count": null,
   "metadata": {},
   "outputs": [],
   "source": []
  }
 ],
 "metadata": {
  "kernelspec": {
   "display_name": "Python 3 (ipykernel)",
   "language": "python",
   "name": "python3"
  },
  "language_info": {
   "codemirror_mode": {
    "name": "ipython",
    "version": 3
   },
   "file_extension": ".py",
   "mimetype": "text/x-python",
   "name": "python",
   "nbconvert_exporter": "python",
   "pygments_lexer": "ipython3",
   "version": "3.9.7"
  },
  "toc": {
   "base_numbering": 1,
   "nav_menu": {},
   "number_sections": true,
   "sideBar": true,
   "skip_h1_title": false,
   "title_cell": "Table of Contents",
   "title_sidebar": "Contents",
   "toc_cell": false,
   "toc_position": {},
   "toc_section_display": true,
   "toc_window_display": false
  },
  "varInspector": {
   "cols": {
    "lenName": 16,
    "lenType": 16,
    "lenVar": 40
   },
   "kernels_config": {
    "python": {
     "delete_cmd_postfix": "",
     "delete_cmd_prefix": "del ",
     "library": "var_list.py",
     "varRefreshCmd": "print(var_dic_list())"
    },
    "r": {
     "delete_cmd_postfix": ") ",
     "delete_cmd_prefix": "rm(",
     "library": "var_list.r",
     "varRefreshCmd": "cat(var_dic_list()) "
    }
   },
   "types_to_exclude": [
    "module",
    "function",
    "builtin_function_or_method",
    "instance",
    "_Feature"
   ],
   "window_display": false
  }
 },
 "nbformat": 4,
 "nbformat_minor": 4
}