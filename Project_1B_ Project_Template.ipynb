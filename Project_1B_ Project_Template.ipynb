{
 "cells": [
  {
   "cell_type": "markdown",
   "metadata": {},
   "source": [
    "# Part I. ETL Pipeline for Pre-Processing the Files"
   ]
  },
  {
   "cell_type": "markdown",
   "metadata": {},
   "source": [
    "#### Import Python packages "
   ]
  },
  {
   "cell_type": "code",
   "execution_count": 58,
   "metadata": {
    "ExecuteTime": {
     "end_time": "2021-10-09T11:17:51.692385Z",
     "start_time": "2021-10-09T11:17:51.681902Z"
    }
   },
   "outputs": [],
   "source": [
    "# Import Python packages\n",
    "import pandas as pd\n",
    "import cassandra\n",
    "import re\n",
    "import os\n",
    "import glob\n",
    "import numpy as np\n",
    "import json\n",
    "import csv"
   ]
  },
  {
   "cell_type": "markdown",
   "metadata": {},
   "source": [
    "#### Creating list of filepaths to process original event csv data files"
   ]
  },
  {
   "cell_type": "code",
   "execution_count": 59,
   "metadata": {
    "ExecuteTime": {
     "end_time": "2021-10-09T11:17:51.708953Z",
     "start_time": "2021-10-09T11:17:51.699519Z"
    }
   },
   "outputs": [],
   "source": [
    "filepath = os.getcwd() + '/event_data'\n",
    "\n",
    "for root, dirs, files in os.walk(filepath):\n",
    "    file_path_list = glob.glob(os.path.join(root,'*'))\n",
    "    #print(file_path_list)"
   ]
  },
  {
   "cell_type": "markdown",
   "metadata": {},
   "source": [
    "#### Processing the files to create the data file csv that will be used for Apache Casssandra tables"
   ]
  },
  {
   "cell_type": "code",
   "execution_count": 73,
   "metadata": {
    "ExecuteTime": {
     "end_time": "2021-10-09T11:20:30.774400Z",
     "start_time": "2021-10-09T11:20:30.675030Z"
    }
   },
   "outputs": [],
   "source": [
    "full_data_rows_list = [] \n",
    "file = 'event_datafile_new.csv'\n",
    "\n",
    "    \n",
    "for f in file_path_list:\n",
    "\n",
    "    with open(f, 'r', encoding = 'utf8', newline='') as csvfile: \n",
    "        csvreader = csv.reader(csvfile) \n",
    "        next(csvreader)\n",
    "        \n",
    "        for line in csvreader:\n",
    "            #print(line)\n",
    "            full_data_rows_list.append(line) \n",
    "            \n",
    "# creating a smaller event data csv file called event_datafile_full csv \n",
    "# that will be used to insert data into the  Apache Cassandra tables\n",
    "csv.register_dialect('myDialect', quoting=csv.QUOTE_ALL, skipinitialspace=True)\n",
    "\n",
    "with open(file, 'w', encoding = 'utf8', newline='') as f:\n",
    "    writer = csv.writer(f, dialect='myDialect')\n",
    "    writer.writerow(['artist','firstName','gender','itemInSession','lastName','length',\\\n",
    "                'level','location','sessionId','song','userId'])\n",
    "    for row in full_data_rows_list:\n",
    "        if (row[0] == ''):\n",
    "            continue\n",
    "        writer.writerow((row[0], row[2], row[3], row[4], row[5], row[6], row[7], row[8], row[12], row[13], row[16]))\n"
   ]
  },
  {
   "cell_type": "code",
   "execution_count": 74,
   "metadata": {
    "ExecuteTime": {
     "end_time": "2021-10-09T11:20:30.782228Z",
     "start_time": "2021-10-09T11:20:30.775813Z"
    }
   },
   "outputs": [
    {
     "name": "stdout",
     "output_type": "stream",
     "text": [
      "6821\n"
     ]
    }
   ],
   "source": [
    "# checking the number of rows in the csv file\n",
    "with open(file, 'r', encoding = 'utf8') as f:\n",
    "    print(sum(1 for line in f))"
   ]
  },
  {
   "cell_type": "markdown",
   "metadata": {},
   "source": [
    "#### Creating a Cluster"
   ]
  },
  {
   "cell_type": "code",
   "execution_count": 75,
   "metadata": {
    "ExecuteTime": {
     "end_time": "2021-10-09T11:20:30.813563Z",
     "start_time": "2021-10-09T11:20:30.783581Z"
    }
   },
   "outputs": [],
   "source": [
    "from cassandra.cluster import Cluster\n",
    "cluster = Cluster(['db'])\n",
    "\n",
    "session = cluster.connect()"
   ]
  },
  {
   "cell_type": "markdown",
   "metadata": {},
   "source": [
    "#### Create Keyspace"
   ]
  },
  {
   "cell_type": "code",
   "execution_count": 76,
   "metadata": {
    "ExecuteTime": {
     "end_time": "2021-10-09T11:20:30.821619Z",
     "start_time": "2021-10-09T11:20:30.815446Z"
    }
   },
   "outputs": [
    {
     "data": {
      "text/plain": [
       "<cassandra.cluster.ResultSet at 0x7f0f0df39940>"
      ]
     },
     "execution_count": 76,
     "metadata": {},
     "output_type": "execute_result"
    }
   ],
   "source": [
    "session.execute(\"\"\"\n",
    "CREATE KEYSPACE IF NOT EXISTS sparkify\n",
    "  WITH REPLICATION = { \n",
    "   'class' : 'SimpleStrategy', \n",
    "   'replication_factor' : 1 \n",
    "  };\n",
    "\"\"\")"
   ]
  },
  {
   "cell_type": "markdown",
   "metadata": {},
   "source": [
    "#### Set Keyspace"
   ]
  },
  {
   "cell_type": "code",
   "execution_count": 77,
   "metadata": {
    "ExecuteTime": {
     "end_time": "2021-10-09T11:20:30.838660Z",
     "start_time": "2021-10-09T11:20:30.823355Z"
    }
   },
   "outputs": [
    {
     "data": {
      "text/plain": [
       "<cassandra.cluster.ResultSet at 0x7f0f0c4c08e0>"
      ]
     },
     "execution_count": 77,
     "metadata": {},
     "output_type": "execute_result"
    }
   ],
   "source": [
    "session.set_keyspace(\"sparkify\")\n",
    "\n",
    "session.execute(\"\"\"\n",
    "DROP TABLE IF EXISTS sparkify.music_app_history\n",
    "\"\"\")\n",
    "session.execute(\"\"\"\n",
    "DROP TABLE IF EXISTS sparkify.artist_listening_history\n",
    "\"\"\")\n",
    "session.execute(\"\"\"\n",
    "DROP TABLE IF EXISTS sparkify.user_listening_history\n",
    "\"\"\")"
   ]
  },
  {
   "cell_type": "markdown",
   "metadata": {},
   "source": [
    "### Now we need to create tables to run the following queries. Remember, with Apache Cassandra you model the database tables on the queries you want to run."
   ]
  },
  {
   "cell_type": "markdown",
   "metadata": {},
   "source": [
    "# Create queries to ask the following three questions of the data\n",
    "\n",
    "### 1. Give me the artist, song title and song's length in the music app history that was heard during  sessionId = 338, and itemInSession  = 4\n",
    "\n",
    "\n",
    "### 2. Give me only the following: name of artist, song (sorted by itemInSession) and user (first and last name) for userid = 10, sessionid = 182\n",
    "    \n",
    "\n",
    "### 3. Give me every user name (first and last) in my music app history who listened to the song 'All Hands Against His Own'"
   ]
  },
  {
   "cell_type": "code",
   "execution_count": 78,
   "metadata": {
    "ExecuteTime": {
     "end_time": "2021-10-09T11:20:33.816385Z",
     "start_time": "2021-10-09T11:20:30.840262Z"
    }
   },
   "outputs": [],
   "source": [
    "\n",
    "\n",
    "class ColumnNames:\n",
    "    artist = \"artist\"\n",
    "    first_name = \"firstName\"\n",
    "    last_name = \"lastName\"\n",
    "    gender = \"gender\"\n",
    "    item_in_session = \"itemInSession\"\n",
    "    length = \"length\"\n",
    "    level = \"level\"\n",
    "    location = \"location\"\n",
    "    session_id = \"sessionId\"\n",
    "    user_id = \"userId\"\n",
    "    song = \"song\"\n",
    "\n",
    "\n",
    "## Query 1:  Give me the artist, song title and song's length in the music app history\n",
    "# that was heard during sessionId = 338, and itemInSession = 4\n",
    "\n",
    "session.execute(\"\"\"\n",
    "CREATE TABLE IF NOT EXISTS music_app_history(\n",
    "   session_id bigint,\n",
    "   item_in_session int,\n",
    "   user_id bigint,\n",
    "   artist text, \n",
    "   song text, \n",
    "   length float,\n",
    "   PRIMARY KEY ((session_id, item_in_session), user_id)\n",
    "   -- using combination of session_id and item_in_session is the best partition key in this scenario based on the query\n",
    "   -- user_id is added to guarantee primary key uniqueness\n",
    "   )\n",
    "\"\"\")\n",
    "query = session.prepare(\"\"\"\n",
    "INSERT INTO music_app_history(session_id, item_in_session, user_id, artist, song, length) VALUES (?,?,?,?,?,?)\n",
    "\"\"\")\n",
    "\n",
    "with open(file, encoding='utf8') as f:\n",
    "    csvreader = csv.DictReader(f)\n",
    "    for line in csvreader:\n",
    "        session.execute(query, (\n",
    "            int(line[ColumnNames.session_id]),\n",
    "            int(line[ColumnNames.item_in_session]),\n",
    "            int(line[ColumnNames.user_id]),\n",
    "            line[ColumnNames.artist],\n",
    "            line[ColumnNames.song],\n",
    "            float(line[ColumnNames.length]),\n",
    "        ))"
   ]
  },
  {
   "cell_type": "markdown",
   "metadata": {},
   "source": [
    "#### Do a SELECT to verify that the data have been inserted into each table"
   ]
  },
  {
   "cell_type": "code",
   "execution_count": 79,
   "metadata": {
    "ExecuteTime": {
     "end_time": "2021-10-09T11:20:33.821289Z",
     "start_time": "2021-10-09T11:20:33.817433Z"
    },
    "scrolled": true
   },
   "outputs": [
    {
     "name": "stdout",
     "output_type": "stream",
     "text": [
      "Row(artist='Faithless', song='Music Matters (Mark Knight Dub)', length=495.30731201171875)\n"
     ]
    }
   ],
   "source": [
    "## Query 1:  Give me the artist, song title and song's length in the music app history\n",
    "# that was heard during sessionId = 338, and itemInSession = 4\n",
    "r = session.execute(\"\"\"\n",
    "SELECT artist, song, length FROM music_app_history\n",
    "WHERE session_id = 338 And item_in_session = 4\n",
    "\"\"\")\n",
    "for x in r:\n",
    "    print(x)"
   ]
  },
  {
   "cell_type": "markdown",
   "metadata": {},
   "source": [
    "### COPY AND REPEAT THE ABOVE THREE CELLS FOR EACH OF THE THREE QUESTIONS"
   ]
  },
  {
   "cell_type": "code",
   "execution_count": 80,
   "metadata": {
    "ExecuteTime": {
     "end_time": "2021-10-09T11:20:37.226009Z",
     "start_time": "2021-10-09T11:20:33.823076Z"
    }
   },
   "outputs": [],
   "source": [
    "##  Query 2: Give me only the following: name of artist, song (sorted by itemInSession)\n",
    "#     and user (first and last name) for userid = 10, sessionid = 182\n",
    "\n",
    "session.execute(\"DROP TABLE IF EXISTS artist_listening_history\")\n",
    "session.execute(\"\"\"\n",
    "CREATE TABLE artist_listening_history(\n",
    "   session_id bigint,\n",
    "   user_id bigint,\n",
    "   item_in_session int,\n",
    "   artist text, \n",
    "   song text, \n",
    "   username text,\n",
    "   PRIMARY KEY ((session_id, user_id), item_in_session)\n",
    "   -- in this case item_in_session should be a clustering column to define order\n",
    "   -- combination of session_ id and user_id is the best choice here as a partition key to distribute data \n",
    "   -- across db nodes\n",
    "   );\n",
    "\"\"\")\n",
    "query = session.prepare( \"\"\"\n",
    "INSERT INTO artist_listening_history(session_id, user_id, item_in_session, artist, song, username)\n",
    "VALUES (?,?,?,?,?,?)\n",
    "\"\"\")\n",
    "\n",
    "with open(file, encoding = 'utf8') as f:\n",
    "    csvreader = csv.DictReader(f)\n",
    "    for line in csvreader:\n",
    "        values=(int(line[ColumnNames.session_id]),\n",
    "                int(line[ColumnNames.user_id]),\n",
    "                int(line[ColumnNames.item_in_session]),\n",
    "                line[ColumnNames.artist], \n",
    "                line[ColumnNames.song],\n",
    "                line[ColumnNames.first_name]+\" \"+line[ColumnNames.last_name],\n",
    "                )\n",
    "#         print(values)\n",
    "        session.execute(query, values ) \n",
    "                    "
   ]
  },
  {
   "cell_type": "code",
   "execution_count": 81,
   "metadata": {
    "ExecuteTime": {
     "end_time": "2021-10-09T11:20:37.231399Z",
     "start_time": "2021-10-09T11:20:37.226960Z"
    }
   },
   "outputs": [
    {
     "name": "stdout",
     "output_type": "stream",
     "text": [
      "Row(artist='Down To The Bone', song=\"Keep On Keepin' On\", username='Sylvie Cruz')\n",
      "Row(artist='Three Drives', song='Greece 2000', username='Sylvie Cruz')\n",
      "Row(artist='Sebastien Tellier', song='Kilometer', username='Sylvie Cruz')\n",
      "Row(artist='Lonnie Gordon', song='Catch You Baby (Steve Pitron & Max Sanna Radio Edit)', username='Sylvie Cruz')\n"
     ]
    }
   ],
   "source": [
    "##  Query 2: Give me only the following: name of artist, song (sorted by itemInSession)\n",
    "#     and user (first and last name) for userid = 10, sessionid = 182\n",
    "\n",
    "r = session.execute(\"\"\"\n",
    " SELECT artist, song, username FROM artist_listening_history\n",
    " WHERE user_id = 10 And session_id = 182\n",
    "\"\"\")\n",
    "\n",
    "for x in r:\n",
    "    print(x)"
   ]
  },
  {
   "cell_type": "code",
   "execution_count": 82,
   "metadata": {
    "ExecuteTime": {
     "end_time": "2021-10-09T11:20:40.358286Z",
     "start_time": "2021-10-09T11:20:37.233192Z"
    }
   },
   "outputs": [],
   "source": [
    "## Query 3: Give me every user name (first and last) in my music app history who listened \n",
    "# to the song 'All Hands Against His Own'\n",
    "\n",
    "session.execute(\"\"\"\n",
    "CREATE TABLE IF NOT EXISTS user_listening_history(\n",
    "   username text,\n",
    "   song text,\n",
    "   PRIMARY KEY (song,username)\n",
    "   -- combination of song and username is the best possible choice as a partition key to \n",
    "   -- distribute data across nodes\n",
    "   );\n",
    "\"\"\")\n",
    "query = session.prepare( \"\"\"\n",
    "INSERT INTO user_listening_history(song,username) VALUES (?,?)\n",
    "\"\"\")\n",
    "\n",
    "with open(file, encoding = 'utf8') as f:\n",
    "    csvreader = csv.DictReader(f)\n",
    "    for line in csvreader:\n",
    "        values=(line[ColumnNames.song],\n",
    "               line[ColumnNames.first_name]+\" \"+line[ColumnNames.last_name])\n",
    "#         print(values)\n",
    "        session.execute(query, values ) "
   ]
  },
  {
   "cell_type": "code",
   "execution_count": 83,
   "metadata": {
    "ExecuteTime": {
     "end_time": "2021-10-09T11:20:40.363501Z",
     "start_time": "2021-10-09T11:20:40.359263Z"
    }
   },
   "outputs": [
    {
     "name": "stdout",
     "output_type": "stream",
     "text": [
      "Users that listened to the song 'All Hands Against His Own' -  ['Jacqueline Lynch', 'Sara Johnson', 'Tegan Levine']\n"
     ]
    }
   ],
   "source": [
    "## Query 3: Give me every user name (first and last) in my music app history who listened \n",
    "# to the song 'All Hands Against His Own'\n",
    "\n",
    "r=session.execute(\"\"\"\n",
    "SELECT username FROM user_listening_history\n",
    "WHERE song='All Hands Against His Own'\n",
    "\"\"\")\n",
    "result=[x.username for x in r]\n",
    "print(\"Users that listened to the song 'All Hands Against His Own' - \", result)                    "
   ]
  },
  {
   "cell_type": "markdown",
   "metadata": {},
   "source": [
    "### Drop the tables before closing out the sessions"
   ]
  },
  {
   "cell_type": "code",
   "execution_count": 84,
   "metadata": {
    "ExecuteTime": {
     "end_time": "2021-10-09T11:20:42.210983Z",
     "start_time": "2021-10-09T11:20:40.364483Z"
    }
   },
   "outputs": [
    {
     "data": {
      "text/plain": [
       "<cassandra.cluster.ResultSet at 0x7f0f0decf880>"
      ]
     },
     "execution_count": 84,
     "metadata": {},
     "output_type": "execute_result"
    }
   ],
   "source": [
    "session.execute(\"\"\"\n",
    "DROP TABLE IF EXISTS sparkify.music_app_history\n",
    "\"\"\")\n",
    "session.execute(\"\"\"\n",
    "DROP TABLE IF EXISTS sparkify.artist_listening_history\n",
    "\"\"\")\n",
    "session.execute(\"\"\"\n",
    "DROP TABLE IF EXISTS sparkify.user_listening_history\n",
    "\"\"\")"
   ]
  },
  {
   "cell_type": "markdown",
   "metadata": {},
   "source": [
    "### Close the session and cluster connection¶"
   ]
  },
  {
   "cell_type": "code",
   "execution_count": 85,
   "metadata": {
    "ExecuteTime": {
     "end_time": "2021-10-09T11:20:42.285818Z",
     "start_time": "2021-10-09T11:20:42.212476Z"
    }
   },
   "outputs": [],
   "source": [
    "session.shutdown()\n",
    "cluster.shutdown()"
   ]
  },
  {
   "cell_type": "code",
   "execution_count": null,
   "metadata": {},
   "outputs": [],
   "source": []
  },
  {
   "cell_type": "code",
   "execution_count": null,
   "metadata": {},
   "outputs": [],
   "source": []
  }
 ],
 "metadata": {
  "kernelspec": {
   "display_name": "Python 3 (ipykernel)",
   "language": "python",
   "name": "python3"
  },
  "language_info": {
   "codemirror_mode": {
    "name": "ipython",
    "version": 3
   },
   "file_extension": ".py",
   "mimetype": "text/x-python",
   "name": "python",
   "nbconvert_exporter": "python",
   "pygments_lexer": "ipython3",
   "version": "3.9.7"
  },
  "toc": {
   "base_numbering": 1,
   "nav_menu": {},
   "number_sections": true,
   "sideBar": true,
   "skip_h1_title": false,
   "title_cell": "Table of Contents",
   "title_sidebar": "Contents",
   "toc_cell": false,
   "toc_position": {
    "height": "calc(100% - 180px)",
    "left": "10px",
    "top": "150px",
    "width": "307.2px"
   },
   "toc_section_display": true,
   "toc_window_display": false
  },
  "varInspector": {
   "cols": {
    "lenName": 16,
    "lenType": 16,
    "lenVar": 40
   },
   "kernels_config": {
    "python": {
     "delete_cmd_postfix": "",
     "delete_cmd_prefix": "del ",
     "library": "var_list.py",
     "varRefreshCmd": "print(var_dic_list())"
    },
    "r": {
     "delete_cmd_postfix": ") ",
     "delete_cmd_prefix": "rm(",
     "library": "var_list.r",
     "varRefreshCmd": "cat(var_dic_list()) "
    }
   },
   "types_to_exclude": [
    "module",
    "function",
    "builtin_function_or_method",
    "instance",
    "_Feature"
   ],
   "window_display": false
  }
 },
 "nbformat": 4,
 "nbformat_minor": 4
}
